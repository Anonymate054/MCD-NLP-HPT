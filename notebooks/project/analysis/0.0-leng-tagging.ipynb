{
 "cells": [
  {
   "cell_type": "code",
   "execution_count": 1,
   "metadata": {
    "cell_id": "70f07b45fb584f45b432479b262d9260",
    "deepnote_cell_type": "code",
    "execution_context_id": "ebffac48-d7d4-4d08-82df-fc828ed51eb8",
    "execution_millis": 3642,
    "execution_start": 1733952251572,
    "source_hash": "9cfa2309"
   },
   "outputs": [
    {
     "name": "stdout",
     "output_type": "stream",
     "text": [
      "Collecting openai\n",
      "  Downloading openai-1.57.2-py3-none-any.whl.metadata (24 kB)\n",
      "Collecting anyio<5,>=3.5.0 (from openai)\n",
      "  Downloading anyio-4.7.0-py3-none-any.whl.metadata (4.7 kB)\n",
      "Collecting distro<2,>=1.7.0 (from openai)\n",
      "  Downloading distro-1.9.0-py3-none-any.whl.metadata (6.8 kB)\n",
      "Collecting httpx<1,>=0.23.0 (from openai)\n",
      "  Downloading httpx-0.28.1-py3-none-any.whl.metadata (7.1 kB)\n",
      "Collecting jiter<1,>=0.4.0 (from openai)\n",
      "  Downloading jiter-0.8.2-cp311-cp311-manylinux_2_17_x86_64.manylinux2014_x86_64.whl.metadata (5.2 kB)\n",
      "Requirement already satisfied: pydantic<3,>=1.9.0 in /root/venv/lib/python3.11/site-packages (from openai) (2.10.3)\n",
      "Collecting sniffio (from openai)\n",
      "  Downloading sniffio-1.3.1-py3-none-any.whl.metadata (3.9 kB)\n",
      "Requirement already satisfied: tqdm>4 in /root/venv/lib/python3.11/site-packages (from openai) (4.67.1)\n",
      "Requirement already satisfied: typing-extensions<5,>=4.11 in /root/venv/lib/python3.11/site-packages (from openai) (4.12.2)\n",
      "Requirement already satisfied: idna>=2.8 in /root/venv/lib/python3.11/site-packages (from anyio<5,>=3.5.0->openai) (3.10)\n",
      "Requirement already satisfied: certifi in /root/venv/lib/python3.11/site-packages (from httpx<1,>=0.23.0->openai) (2024.8.30)\n",
      "Collecting httpcore==1.* (from httpx<1,>=0.23.0->openai)\n",
      "  Downloading httpcore-1.0.7-py3-none-any.whl.metadata (21 kB)\n",
      "Collecting h11<0.15,>=0.13 (from httpcore==1.*->httpx<1,>=0.23.0->openai)\n",
      "  Downloading h11-0.14.0-py3-none-any.whl.metadata (8.2 kB)\n",
      "Requirement already satisfied: annotated-types>=0.6.0 in /root/venv/lib/python3.11/site-packages (from pydantic<3,>=1.9.0->openai) (0.7.0)\n",
      "Requirement already satisfied: pydantic-core==2.27.1 in /root/venv/lib/python3.11/site-packages (from pydantic<3,>=1.9.0->openai) (2.27.1)\n",
      "Downloading openai-1.57.2-py3-none-any.whl (389 kB)\n",
      "\u001b[2K   \u001b[90m━━━━━━━━━━━━━━━━━━━━━━━━━━━━━━━━━━━━━━━━\u001b[0m \u001b[32m389.9/389.9 kB\u001b[0m \u001b[31m27.3 MB/s\u001b[0m eta \u001b[36m0:00:00\u001b[0m\n",
      "\u001b[?25hDownloading anyio-4.7.0-py3-none-any.whl (93 kB)\n",
      "\u001b[2K   \u001b[90m━━━━━━━━━━━━━━━━━━━━━━━━━━━━━━━━━━━━━━━━\u001b[0m \u001b[32m93.1/93.1 kB\u001b[0m \u001b[31m12.7 MB/s\u001b[0m eta \u001b[36m0:00:00\u001b[0m\n",
      "\u001b[?25hDownloading distro-1.9.0-py3-none-any.whl (20 kB)\n",
      "Downloading httpx-0.28.1-py3-none-any.whl (73 kB)\n",
      "\u001b[2K   \u001b[90m━━━━━━━━━━━━━━━━━━━━━━━━━━━━━━━━━━━━━━━━\u001b[0m \u001b[32m73.5/73.5 kB\u001b[0m \u001b[31m7.7 MB/s\u001b[0m eta \u001b[36m0:00:00\u001b[0m\n",
      "\u001b[?25hDownloading httpcore-1.0.7-py3-none-any.whl (78 kB)\n",
      "\u001b[2K   \u001b[90m━━━━━━━━━━━━━━━━━━━━━━━━━━━━━━━━━━━━━━━━\u001b[0m \u001b[32m78.6/78.6 kB\u001b[0m \u001b[31m13.9 MB/s\u001b[0m eta \u001b[36m0:00:00\u001b[0m\n",
      "\u001b[?25hDownloading jiter-0.8.2-cp311-cp311-manylinux_2_17_x86_64.manylinux2014_x86_64.whl (345 kB)\n",
      "\u001b[2K   \u001b[90m━━━━━━━━━━━━━━━━━━━━━━━━━━━━━━━━━━━━━━━━\u001b[0m \u001b[32m345.6/345.6 kB\u001b[0m \u001b[31m48.3 MB/s\u001b[0m eta \u001b[36m0:00:00\u001b[0m\n",
      "\u001b[?25hDownloading sniffio-1.3.1-py3-none-any.whl (10 kB)\n",
      "Downloading h11-0.14.0-py3-none-any.whl (58 kB)\n",
      "\u001b[2K   \u001b[90m━━━━━━━━━━━━━━━━━━━━━━━━━━━━━━━━━━━━━━━━\u001b[0m \u001b[32m58.3/58.3 kB\u001b[0m \u001b[31m3.0 MB/s\u001b[0m eta \u001b[36m0:00:00\u001b[0m\n",
      "\u001b[?25hInstalling collected packages: sniffio, jiter, h11, distro, httpcore, anyio, httpx, openai\n",
      "Successfully installed anyio-4.7.0 distro-1.9.0 h11-0.14.0 httpcore-1.0.7 httpx-0.28.1 jiter-0.8.2 openai-1.57.2 sniffio-1.3.1\n",
      "\n",
      "\u001b[1m[\u001b[0m\u001b[34;49mnotice\u001b[0m\u001b[1;39;49m]\u001b[0m\u001b[39;49m A new release of pip is available: \u001b[0m\u001b[31;49m24.0\u001b[0m\u001b[39;49m -> \u001b[0m\u001b[32;49m24.3.1\u001b[0m\n",
      "\u001b[1m[\u001b[0m\u001b[34;49mnotice\u001b[0m\u001b[1;39;49m]\u001b[0m\u001b[39;49m To update, run: \u001b[0m\u001b[32;49mpip install --upgrade pip\u001b[0m\n"
     ]
    }
   ],
   "source": [
    "!pip install openai"
   ]
  },
  {
   "cell_type": "code",
   "execution_count": 2,
   "metadata": {
    "cell_id": "349a02782b5349a5b0291729ce480ea3",
    "deepnote_cell_type": "code",
    "execution_context_id": "ebffac48-d7d4-4d08-82df-fc828ed51eb8",
    "execution_millis": 2651,
    "execution_start": 1733952255259,
    "source_hash": "8afb312b"
   },
   "outputs": [],
   "source": [
    "from openai import OpenAI\n",
    "import pandas as pd\n",
    "import fs"
   ]
  },
  {
   "cell_type": "code",
   "execution_count": 3,
   "metadata": {
    "cell_id": "201438507b794b1199710b4503197058",
    "deepnote_cell_type": "code",
    "execution_context_id": "ebffac48-d7d4-4d08-82df-fc828ed51eb8",
    "execution_millis": 277,
    "execution_start": 1733952257959,
    "source_hash": "1d682d50"
   },
   "outputs": [],
   "source": [
    "INTERIM_FILES_DIR = fs.open_fs(\"MCD-NLP-HPT/data/interim\")\n",
    "INTERIM_COMMENTS_ITEMS_DIR = INTERIM_FILES_DIR.getsyspath(\"Items.csv\")"
   ]
  },
  {
   "cell_type": "code",
   "execution_count": 4,
   "metadata": {
    "cell_id": "bcf58cc52ef64146b4a82d023190e292",
    "deepnote_cell_type": "code",
    "execution_context_id": "ebffac48-d7d4-4d08-82df-fc828ed51eb8",
    "execution_millis": 312,
    "execution_start": 1733952258287,
    "source_hash": "cae4ce25"
   },
   "outputs": [],
   "source": [
    "df = pd.read_csv(INTERIM_COMMENTS_ITEMS_DIR)"
   ]
  },
  {
   "cell_type": "code",
   "execution_count": 5,
   "metadata": {
    "cell_id": "5c849ad52d77490694db956cfcc86c98",
    "deepnote_cell_type": "code",
    "execution_context_id": "ebffac48-d7d4-4d08-82df-fc828ed51eb8",
    "execution_millis": 49,
    "execution_start": 1733952258648,
    "source_hash": "f804c160"
   },
   "outputs": [
    {
     "data": {
      "application/vnd.deepnote.dataframe.v3+json": {
       "column_count": 27,
       "columns": [
        {
         "dtype": "object",
         "name": "kind",
         "stats": {
          "categories": [
           {
            "count": 1026,
            "name": "youtube#commentThread"
           }
          ],
          "nan_count": 0,
          "unique_count": 1
         }
        },
        {
         "dtype": "object",
         "name": "etag",
         "stats": {
          "categories": [
           {
            "count": 1,
            "name": "35SzVbfAjbh-WxxI6CDcz8jJalE"
           },
           {
            "count": 1,
            "name": "D5l-LBB9fD-VlBImz-EN9K8mTmM"
           },
           {
            "count": 1024,
            "name": "1024 others"
           }
          ],
          "nan_count": 0,
          "unique_count": 1026
         }
        },
        {
         "dtype": "object",
         "name": "id",
         "stats": {
          "categories": [
           {
            "count": 1,
            "name": "Ugz0QmXyVLSM0nUK7kB4AaABAg"
           },
           {
            "count": 1,
            "name": "UgyJhRBhVcbyStZdxjR4AaABAg"
           },
           {
            "count": 1024,
            "name": "1024 others"
           }
          ],
          "nan_count": 0,
          "unique_count": 1026
         }
        },
        {
         "dtype": "object",
         "name": "snippet.channelId",
         "stats": {
          "categories": [
           {
            "count": 1026,
            "name": "UCeYSnd34IPe57sM8hkjWhrw"
           }
          ],
          "nan_count": 0,
          "unique_count": 1
         }
        },
        {
         "dtype": "object",
         "name": "snippet.videoId",
         "stats": {
          "categories": [
           {
            "count": 83,
            "name": "RBnZPFhDcnk"
           },
           {
            "count": 59,
            "name": "FOFeh_vfcD8"
           },
           {
            "count": 884,
            "name": "23 others"
           }
          ],
          "nan_count": 0,
          "unique_count": 25
         }
        },
        {
         "dtype": "object",
         "name": "snippet.topLevelComment.kind",
         "stats": {
          "categories": [
           {
            "count": 1026,
            "name": "youtube#comment"
           }
          ],
          "nan_count": 0,
          "unique_count": 1
         }
        },
        {
         "dtype": "object",
         "name": "snippet.topLevelComment.etag",
         "stats": {
          "categories": [
           {
            "count": 1,
            "name": "yopv5G2xkuk2ZN4mdQMDcEtKmS4"
           },
           {
            "count": 1,
            "name": "avm1UM6tZkxbnMkp59t7_36GZrk"
           },
           {
            "count": 1024,
            "name": "1024 others"
           }
          ],
          "nan_count": 0,
          "unique_count": 1026
         }
        },
        {
         "dtype": "object",
         "name": "snippet.topLevelComment.id",
         "stats": {
          "categories": [
           {
            "count": 1,
            "name": "Ugz0QmXyVLSM0nUK7kB4AaABAg"
           },
           {
            "count": 1,
            "name": "UgyJhRBhVcbyStZdxjR4AaABAg"
           },
           {
            "count": 1024,
            "name": "1024 others"
           }
          ],
          "nan_count": 0,
          "unique_count": 1026
         }
        },
        {
         "dtype": "object",
         "name": "snippet.topLevelComment.snippet.channelId",
         "stats": {
          "categories": [
           {
            "count": 1026,
            "name": "UCeYSnd34IPe57sM8hkjWhrw"
           }
          ],
          "nan_count": 0,
          "unique_count": 1
         }
        },
        {
         "dtype": "object",
         "name": "snippet.topLevelComment.snippet.videoId",
         "stats": {
          "categories": [
           {
            "count": 83,
            "name": "RBnZPFhDcnk"
           },
           {
            "count": 59,
            "name": "FOFeh_vfcD8"
           },
           {
            "count": 884,
            "name": "23 others"
           }
          ],
          "nan_count": 0,
          "unique_count": 25
         }
        },
        {
         "dtype": "object",
         "name": "snippet.topLevelComment.snippet.textDisplay",
         "stats": {
          "categories": [
           {
            "count": 14,
            "name": "Imperio japonés pt4 plis"
           },
           {
            "count": 2,
            "name": "❤"
           },
           {
            "count": 1010,
            "name": "1006 others"
           }
          ],
          "nan_count": 0,
          "unique_count": 1008
         }
        },
        {
         "dtype": "object",
         "name": "snippet.topLevelComment.snippet.textOriginal",
         "stats": {
          "categories": [
           {
            "count": 14,
            "name": "Imperio japonés pt4 plis"
           },
           {
            "count": 2,
            "name": "❤"
           },
           {
            "count": 1010,
            "name": "1006 others"
           }
          ],
          "nan_count": 0,
          "unique_count": 1008
         }
        },
        {
         "dtype": "object",
         "name": "snippet.topLevelComment.snippet.authorDisplayName",
         "stats": {
          "categories": [
           {
            "count": 16,
            "name": "@ivanmelchor2889"
           },
           {
            "count": 1002,
            "name": "692 others"
           },
           {
            "count": 8,
            "name": "Missing"
           }
          ],
          "nan_count": 8,
          "unique_count": 693
         }
        },
        {
         "dtype": "object",
         "name": "snippet.topLevelComment.snippet.authorProfileImageUrl",
         "stats": {
          "categories": [
           {
            "count": 16,
            "name": "https://yt3.ggpht.com/ytc/AIdro_nWKTGSonhM-T8UMp8LtgMeOca3WZgD7MbleE2lM08=s48-c-k-c0x00ffffff-no-rj"
           },
           {
            "count": 13,
            "name": "https://yt3.ggpht.com/ytc/AIdro_lwbDah96CnBihX4Y-e36Gm0TnYnOORwUSk-Wx4KTUTgw=s48-c-k-c0x00ffffff-no-rj"
           },
           {
            "count": 997,
            "name": "688 others"
           }
          ],
          "nan_count": 0,
          "unique_count": 690
         }
        },
        {
         "dtype": "object",
         "name": "snippet.topLevelComment.snippet.authorChannelUrl",
         "stats": {
          "categories": [
           {
            "count": 16,
            "name": "http://www.youtube.com/@ivanmelchor2889"
           },
           {
            "count": 13,
            "name": "http://www.youtube.com/@LadySkywalkerW"
           },
           {
            "count": 997,
            "name": "694 others"
           }
          ],
          "nan_count": 0,
          "unique_count": 696
         }
        },
        {
         "dtype": "object",
         "name": "snippet.topLevelComment.snippet.authorChannelId.value",
         "stats": {
          "categories": [
           {
            "count": 16,
            "name": "UC6qmZLxUbR3ZIKT9Z2e2PCw"
           },
           {
            "count": 13,
            "name": "UCC-kANsNvPcG9ut34SPngeg"
           },
           {
            "count": 997,
            "name": "694 others"
           }
          ],
          "nan_count": 0,
          "unique_count": 696
         }
        },
        {
         "dtype": "bool",
         "name": "snippet.topLevelComment.snippet.canRate",
         "stats": {
          "categories": [
           {
            "count": 1026,
            "name": "True"
           }
          ],
          "nan_count": 0,
          "unique_count": 1
         }
        },
        {
         "dtype": "object",
         "name": "snippet.topLevelComment.snippet.viewerRating",
         "stats": {
          "categories": [
           {
            "count": 1026,
            "name": "none"
           }
          ],
          "nan_count": 0,
          "unique_count": 1
         }
        },
        {
         "dtype": "int64",
         "name": "snippet.topLevelComment.snippet.likeCount",
         "stats": {
          "histogram": [
           {
            "bin_end": 4.3,
            "bin_start": 0,
            "count": 968
           },
           {
            "bin_end": 8.6,
            "bin_start": 4.3,
            "count": 29
           },
           {
            "bin_end": 12.899999999999999,
            "bin_start": 8.6,
            "count": 15
           },
           {
            "bin_end": 17.2,
            "bin_start": 12.899999999999999,
            "count": 4
           },
           {
            "bin_end": 21.5,
            "bin_start": 17.2,
            "count": 3
           },
           {
            "bin_end": 25.799999999999997,
            "bin_start": 21.5,
            "count": 4
           },
           {
            "bin_end": 30.099999999999998,
            "bin_start": 25.799999999999997,
            "count": 1
           },
           {
            "bin_end": 34.4,
            "bin_start": 30.099999999999998,
            "count": 1
           },
           {
            "bin_end": 38.699999999999996,
            "bin_start": 34.4,
            "count": 0
           },
           {
            "bin_end": 43,
            "bin_start": 38.699999999999996,
            "count": 1
           }
          ],
          "max": "43",
          "min": "0",
          "nan_count": 0,
          "unique_count": 24
         }
        },
        {
         "dtype": "object",
         "name": "snippet.topLevelComment.snippet.publishedAt",
         "stats": {
          "categories": [
           {
            "count": 1,
            "name": "2024-07-15T12:41:43Z"
           },
           {
            "count": 1,
            "name": "2024-05-26T21:41:04Z"
           },
           {
            "count": 1024,
            "name": "1024 others"
           }
          ],
          "nan_count": 0,
          "unique_count": 1026
         }
        },
        {
         "dtype": "object",
         "name": "snippet.topLevelComment.snippet.updatedAt",
         "stats": {
          "categories": [
           {
            "count": 1,
            "name": "2024-07-15T12:41:43Z"
           },
           {
            "count": 1,
            "name": "2024-05-26T21:41:04Z"
           },
           {
            "count": 1024,
            "name": "1024 others"
           }
          ],
          "nan_count": 0,
          "unique_count": 1026
         }
        },
        {
         "dtype": "bool",
         "name": "snippet.canReply",
         "stats": {
          "categories": [
           {
            "count": 1026,
            "name": "True"
           }
          ],
          "nan_count": 0,
          "unique_count": 1
         }
        },
        {
         "dtype": "int64",
         "name": "snippet.totalReplyCount",
         "stats": {
          "histogram": [
           {
            "bin_end": 1.4,
            "bin_start": 0,
            "count": 1009
           },
           {
            "bin_end": 2.8,
            "bin_start": 1.4,
            "count": 12
           },
           {
            "bin_end": 4.199999999999999,
            "bin_start": 2.8,
            "count": 3
           },
           {
            "bin_end": 5.6,
            "bin_start": 4.199999999999999,
            "count": 1
           },
           {
            "bin_end": 7,
            "bin_start": 5.6,
            "count": 0
           },
           {
            "bin_end": 8.399999999999999,
            "bin_start": 7,
            "count": 0
           },
           {
            "bin_end": 9.799999999999999,
            "bin_start": 8.399999999999999,
            "count": 0
           },
           {
            "bin_end": 11.2,
            "bin_start": 9.799999999999999,
            "count": 0
           },
           {
            "bin_end": 12.6,
            "bin_start": 11.2,
            "count": 0
           },
           {
            "bin_end": 14,
            "bin_start": 12.6,
            "count": 1
           }
          ],
          "max": "14",
          "min": "0",
          "nan_count": 0,
          "unique_count": 7
         }
        },
        {
         "dtype": "bool",
         "name": "snippet.isPublic",
         "stats": {
          "categories": [
           {
            "count": 1026,
            "name": "True"
           }
          ],
          "nan_count": 0,
          "unique_count": 1
         }
        },
        {
         "dtype": "object",
         "name": "replies.comments",
         "stats": {
          "categories": [
           {
            "count": 1,
            "name": "[{'kind': 'youtube#comment', 'etag': 'a7mOGAgSO3DCwrGCaZ2qo99j0C8', 'id': 'Ugwt4G1SOIkcXe9YaKV4AaABAg.A27qlBtgdhtA28Lccpmg3z', 'snippet': {'channelId': 'UCeYSnd34IPe57sM8hkjWhrw', 'videoId': 'cQ9RLDhq6JY', 'textDisplay': 'Spotify', 'textOriginal': 'Spotify', 'parentId': 'Ugwt4G1SOIkcXe9YaKV4AaABAg', 'authorDisplayName': '@oscarag5640', 'authorProfileImageUrl': 'https://yt3.ggpht.com/ytc/AIdro_nCrNy342u7NXjfRrsuNB71manQ02RhRM0KOFc4i59Dw5M=s48-c-k-c0x00ffffff-no-rj', 'authorChannelUrl': 'http://www.youtube.com/@oscarag5640', 'authorChannelId': {'value': 'UCXt2CUFfO_6K1GU4SeBJneg'}, 'canRate': True, 'viewerRating': 'none', 'likeCount': 0, 'publishedAt': '2024-04-12T17:12:48Z', 'updatedAt': '2024-04-12T17:12:48Z'}}]"
           },
           {
            "count": 60,
            "name": "60 others"
           },
           {
            "count": 965,
            "name": "Missing"
           }
          ],
          "nan_count": 965,
          "unique_count": 61
         }
        },
        {
         "dtype": "int64",
         "name": "category_id",
         "stats": {
          "histogram": [
           {
            "bin_end": 1.6,
            "bin_start": 1,
            "count": 90
           },
           {
            "bin_end": 2.2,
            "bin_start": 1.6,
            "count": 178
           },
           {
            "bin_end": 2.8,
            "bin_start": 2.2,
            "count": 0
           },
           {
            "bin_end": 3.4,
            "bin_start": 2.8,
            "count": 67
           },
           {
            "bin_end": 4,
            "bin_start": 3.4,
            "count": 0
           },
           {
            "bin_end": 4.6,
            "bin_start": 4,
            "count": 129
           },
           {
            "bin_end": 5.2,
            "bin_start": 4.6,
            "count": 218
           },
           {
            "bin_end": 5.8,
            "bin_start": 5.2,
            "count": 0
           },
           {
            "bin_end": 6.3999999999999995,
            "bin_start": 5.8,
            "count": 225
           },
           {
            "bin_end": 7,
            "bin_start": 6.3999999999999995,
            "count": 119
           }
          ],
          "max": "7",
          "min": "1",
          "nan_count": 0,
          "unique_count": 7
         }
        },
        {
         "dtype": "object",
         "name": "category_description",
         "stats": {
          "categories": [
           {
            "count": 225,
            "name": "Comentarios humorísticos o memes"
           },
           {
            "count": 218,
            "name": "Felicitaciones y agradecimientos"
           },
           {
            "count": 583,
            "name": "5 others"
           }
          ],
          "nan_count": 0,
          "unique_count": 7
         }
        },
        {
         "dtype": "int64",
         "name": "_deepnote_index_column"
        }
       ],
       "row_count": 1026,
       "rows": [
        {
         "_deepnote_index_column": 0,
         "category_description": "Quejas o sugerencias de mejora",
         "category_id": 1,
         "etag": "35SzVbfAjbh-WxxI6CDcz8jJalE",
         "id": "Ugz0QmXyVLSM0nUK7kB4AaABAg",
         "kind": "youtube#commentThread",
         "replies.comments": "nan",
         "snippet.canReply": "True",
         "snippet.channelId": "UCeYSnd34IPe57sM8hkjWhrw",
         "snippet.isPublic": "True",
         "snippet.topLevelComment.etag": "yopv5G2xkuk2ZN4mdQMDcEtKmS4",
         "snippet.topLevelComment.id": "Ugz0QmXyVLSM0nUK7kB4AaABAg",
         "snippet.topLevelComment.kind": "youtube#comment",
         "snippet.topLevelComment.snippet.authorChannelId.value": "UC3In6JIjltN9q3vYip-nhbA",
         "snippet.topLevelComment.snippet.authorChannelUrl": "http://www.youtube.com/@fabianbecerra2272",
         "snippet.topLevelComment.snippet.authorDisplayName": "@fabianbecerra2272",
         "snippet.topLevelComment.snippet.authorProfileImageUrl": "https://yt3.ggpht.com/ytc/AIdro_nTXgELBQMWE4Ir8svSdi0RIoWd-SfyZM3_Svweath2GHOO=s48-c-k-c0x00ffffff-no-rj",
         "snippet.topLevelComment.snippet.canRate": "True",
         "snippet.topLevelComment.snippet.channelId": "UCeYSnd34IPe57sM8hkjWhrw",
         "snippet.topLevelComment.snippet.likeCount": 0,
         "snippet.topLevelComment.snippet.publishedAt": "2024-07-15T12:41:43Z",
         "snippet.topLevelComment.snippet.textDisplay": "Me gusta su podcast, pero solo he escuchado los que están en Youtube, por favor suban todos los capítulos de Spotify a YouTube, muchas gracias",
         "snippet.topLevelComment.snippet.textOriginal": "Me gusta su podcast, pero solo he escuchado los que están en Youtube, por favor suban todos los capítulos de Spotify a YouTube, muchas gracias",
         "snippet.topLevelComment.snippet.updatedAt": "2024-07-15T12:41:43Z",
         "snippet.topLevelComment.snippet.videoId": "cQ9RLDhq6JY",
         "snippet.topLevelComment.snippet.viewerRating": "none",
         "snippet.totalReplyCount": 0,
         "snippet.videoId": "cQ9RLDhq6JY"
        },
        {
         "_deepnote_index_column": 1,
         "category_description": "Comentarios generales",
         "category_id": 7,
         "etag": "D5l-LBB9fD-VlBImz-EN9K8mTmM",
         "id": "UgyJhRBhVcbyStZdxjR4AaABAg",
         "kind": "youtube#commentThread",
         "replies.comments": "nan",
         "snippet.canReply": "True",
         "snippet.channelId": "UCeYSnd34IPe57sM8hkjWhrw",
         "snippet.isPublic": "True",
         "snippet.topLevelComment.etag": "avm1UM6tZkxbnMkp59t7_36GZrk",
         "snippet.topLevelComment.id": "UgyJhRBhVcbyStZdxjR4AaABAg",
         "snippet.topLevelComment.kind": "youtube#comment",
         "snippet.topLevelComment.snippet.authorChannelId.value": "UCbDEMBgOeP90oPLWs7-FDvQ",
         "snippet.topLevelComment.snippet.authorChannelUrl": "http://www.youtube.com/@SantiagoItzcoatl",
         "snippet.topLevelComment.snippet.authorDisplayName": "@SantiagoItzcoatl",
         "snippet.topLevelComment.snippet.authorProfileImageUrl": "https://yt3.ggpht.com/ytc/AIdro_kNp7nO6H8vr_5I7bvyKls8Xw92PscyLo7G5HayDsfReTY=s48-c-k-c0x00ffffff-no-rj",
         "snippet.topLevelComment.snippet.canRate": "True",
         "snippet.topLevelComment.snippet.channelId": "UCeYSnd34IPe57sM8hkjWhrw",
         "snippet.topLevelComment.snippet.likeCount": 0,
         "snippet.topLevelComment.snippet.publishedAt": "2024-05-26T21:41:04Z",
         "snippet.topLevelComment.snippet.textDisplay": "weeeeey",
         "snippet.topLevelComment.snippet.textOriginal": "weeeeey",
         "snippet.topLevelComment.snippet.updatedAt": "2024-05-26T21:41:04Z",
         "snippet.topLevelComment.snippet.videoId": "cQ9RLDhq6JY",
         "snippet.topLevelComment.snippet.viewerRating": "none",
         "snippet.totalReplyCount": 0,
         "snippet.videoId": "cQ9RLDhq6JY"
        },
        {
         "_deepnote_index_column": 2,
         "category_description": "Comentarios generales",
         "category_id": 7,
         "etag": "iKN6FQSPLo3xUlizd--6R0h2SN8",
         "id": "UgzT1q2am7kMEM5ckDp4AaABAg",
         "kind": "youtube#commentThread",
         "replies.comments": "nan",
         "snippet.canReply": "True",
         "snippet.channelId": "UCeYSnd34IPe57sM8hkjWhrw",
         "snippet.isPublic": "True",
         "snippet.topLevelComment.etag": "g6vw71KL8rJyQPLYPCUCm4O6rbA",
         "snippet.topLevelComment.id": "UgzT1q2am7kMEM5ckDp4AaABAg",
         "snippet.topLevelComment.kind": "youtube#comment",
         "snippet.topLevelComment.snippet.authorChannelId.value": "UCPfzEUeII0UXFcf2t01dClA",
         "snippet.topLevelComment.snippet.authorChannelUrl": "http://www.youtube.com/@Sonyeke_1",
         "snippet.topLevelComment.snippet.authorDisplayName": "@Sonyeke_1",
         "snippet.topLevelComment.snippet.authorProfileImageUrl": "https://yt3.ggpht.com/LbaGDpq2Z-xKWB2ll8EsNzoUarz3MIX_bQpOXUPBp9uzneST04rMzp1HP33C4Hj2BhhlA8fT3g=s48-c-k-c0x00ffffff-no-rj",
         "snippet.topLevelComment.snippet.canRate": "True",
         "snippet.topLevelComment.snippet.channelId": "UCeYSnd34IPe57sM8hkjWhrw",
         "snippet.topLevelComment.snippet.likeCount": 0,
         "snippet.topLevelComment.snippet.publishedAt": "2024-05-23T22:06:21Z",
         "snippet.topLevelComment.snippet.textDisplay": "Les voy a enviar una foto de TARAPACA",
         "snippet.topLevelComment.snippet.textOriginal": "Les voy a enviar una foto de TARAPACA",
         "snippet.topLevelComment.snippet.updatedAt": "2024-05-23T22:06:21Z",
         "snippet.topLevelComment.snippet.videoId": "cQ9RLDhq6JY",
         "snippet.topLevelComment.snippet.viewerRating": "none",
         "snippet.totalReplyCount": 0,
         "snippet.videoId": "cQ9RLDhq6JY"
        },
        {
         "_deepnote_index_column": 3,
         "category_description": "Comentarios humorísticos o memes",
         "category_id": 6,
         "etag": "hkErqy7RZOwAKS6YyNXqwPFTCAg",
         "id": "Ugyckucg38lqZFdZhaR4AaABAg",
         "kind": "youtube#commentThread",
         "replies.comments": "nan",
         "snippet.canReply": "True",
         "snippet.channelId": "UCeYSnd34IPe57sM8hkjWhrw",
         "snippet.isPublic": "True",
         "snippet.topLevelComment.etag": "soQFV-F5m7bRA03fMjI1IoKQrGs",
         "snippet.topLevelComment.id": "Ugyckucg38lqZFdZhaR4AaABAg",
         "snippet.topLevelComment.kind": "youtube#comment",
         "snippet.topLevelComment.snippet.authorChannelId.value": "UCwfZIbgLOHYsNdWFfiMmfHg",
         "snippet.topLevelComment.snippet.authorChannelUrl": "http://www.youtube.com/@alejandranavarro464",
         "snippet.topLevelComment.snippet.authorDisplayName": "@alejandranavarro464",
         "snippet.topLevelComment.snippet.authorProfileImageUrl": "https://yt3.ggpht.com/_IdCNA3l2e4QZ175cWoUUzp_EG53aDHwC_Kf940vrAgfK75Vhph_tJ7B2vNTFBL_NeC3mbxf4A=s48-c-k-c0x00ffffff-no-rj",
         "snippet.topLevelComment.snippet.canRate": "True",
         "snippet.topLevelComment.snippet.channelId": "UCeYSnd34IPe57sM8hkjWhrw",
         "snippet.topLevelComment.snippet.likeCount": 0,
         "snippet.topLevelComment.snippet.publishedAt": "2024-05-05T09:24:57Z",
         "snippet.topLevelComment.snippet.textDisplay": "Entonces Teca esta  solterooooooooooooooo! ❤  woooooo",
         "snippet.topLevelComment.snippet.textOriginal": "Entonces Teca esta  solterooooooooooooooo! ❤  woooooo",
         "snippet.topLevelComment.snippet.updatedAt": "2024-05-05T09:24:57Z",
         "snippet.topLevelComment.snippet.videoId": "cQ9RLDhq6JY",
         "snippet.topLevelComment.snippet.viewerRating": "none",
         "snippet.totalReplyCount": 0,
         "snippet.videoId": "cQ9RLDhq6JY"
        },
        {
         "_deepnote_index_column": 4,
         "category_description": "Felicitaciones y agradecimientos",
         "category_id": 5,
         "etag": "9c50dNDxQ96ZYyFK1aeJYj4ofnQ",
         "id": "UgzhZHVt-tEbDpbCvtB4AaABAg",
         "kind": "youtube#commentThread",
         "replies.comments": "nan",
         "snippet.canReply": "True",
         "snippet.channelId": "UCeYSnd34IPe57sM8hkjWhrw",
         "snippet.isPublic": "True",
         "snippet.topLevelComment.etag": "wLebngIiKaOrIw1ibNjosSTEyFc",
         "snippet.topLevelComment.id": "UgzhZHVt-tEbDpbCvtB4AaABAg",
         "snippet.topLevelComment.kind": "youtube#comment",
         "snippet.topLevelComment.snippet.authorChannelId.value": "UC_aIjI_NTlEUd_zFkmTcpJQ",
         "snippet.topLevelComment.snippet.authorChannelUrl": "http://www.youtube.com/@fiorellamartinez873",
         "snippet.topLevelComment.snippet.authorDisplayName": "@fiorellamartinez873",
         "snippet.topLevelComment.snippet.authorProfileImageUrl": "https://yt3.ggpht.com/ytc/AIdro_nrymCrT3X9YajJM76jpe6tbXiDBSZCZEMUolQsOPxUDLae=s48-c-k-c0x00ffffff-no-rj",
         "snippet.topLevelComment.snippet.canRate": "True",
         "snippet.topLevelComment.snippet.channelId": "UCeYSnd34IPe57sM8hkjWhrw",
         "snippet.topLevelComment.snippet.likeCount": 0,
         "snippet.topLevelComment.snippet.publishedAt": "2024-04-21T21:09:08Z",
         "snippet.topLevelComment.snippet.textDisplay": "Me encantan sus podcast, los escucho en spotify cuando viajo al trabajo! Cuando los conoci todavia usaban los microfonos viejos😂<br>Los felicito por terrible laburo que hacen y la onda que le ponen<br>Saludos desde Argentina💛",
         "snippet.topLevelComment.snippet.textOriginal": "Me encantan sus podcast, los escucho en spotify cuando viajo al trabajo! Cuando los conoci todavia usaban los microfonos viejos😂\nLos felicito por terrible laburo que hacen y la onda que le ponen\nSaludos desde Argentina💛",
         "snippet.topLevelComment.snippet.updatedAt": "2024-04-21T21:09:08Z",
         "snippet.topLevelComment.snippet.videoId": "cQ9RLDhq6JY",
         "snippet.topLevelComment.snippet.viewerRating": "none",
         "snippet.totalReplyCount": 0,
         "snippet.videoId": "cQ9RLDhq6JY"
        },
        {
         "_deepnote_index_column": 5,
         "category_description": "Felicitaciones y agradecimientos",
         "category_id": 5,
         "etag": "IMWj7jiP7fhzDhqcKehNq9rqub8",
         "id": "UgwrcWmR1WFRrp1eNDV4AaABAg",
         "kind": "youtube#commentThread",
         "replies.comments": "nan",
         "snippet.canReply": "True",
         "snippet.channelId": "UCeYSnd34IPe57sM8hkjWhrw",
         "snippet.isPublic": "True",
         "snippet.topLevelComment.etag": "tlvH3P8DBKfnhP7nvu0Tdd_VQOY",
         "snippet.topLevelComment.id": "UgwrcWmR1WFRrp1eNDV4AaABAg",
         "snippet.topLevelComment.kind": "youtube#comment",
         "snippet.topLevelComment.snippet.authorChannelId.value": "UCvVTDVH4NsYshCKLKYdhM2Q",
         "snippet.topLevelComment.snippet.authorChannelUrl": "http://www.youtube.com/@angelicaaixag",
         "snippet.topLevelComment.snippet.authorDisplayName": "@angelicaaixag",
         "snippet.topLevelComment.snippet.authorProfileImageUrl": "https://yt3.ggpht.com/ytc/AIdro_n_VMYnmDVZNkFUrFDYjXiSC5c5XUc-n5cSg6jMZ6dC59w=s48-c-k-c0x00ffffff-no-rj",
         "snippet.topLevelComment.snippet.canRate": "True",
         "snippet.topLevelComment.snippet.channelId": "UCeYSnd34IPe57sM8hkjWhrw",
         "snippet.topLevelComment.snippet.likeCount": 0,
         "snippet.topLevelComment.snippet.publishedAt": "2024-04-21T14:07:13Z",
         "snippet.topLevelComment.snippet.textDisplay": "Les dejo el mismo comentario que en iPodcast pero sé que no lo verán lol así que les quería felicitar porque los sigo fielmente desde el capítulo número ocho! 👏🏻 Un saludote desde Colombia, espero algún día verlos. <br><br>Dejaré la vergüenza y les comentaré más seguido! 🇨🇴",
         "snippet.topLevelComment.snippet.textOriginal": "Les dejo el mismo comentario que en iPodcast pero sé que no lo verán lol así que les quería felicitar porque los sigo fielmente desde el capítulo número ocho! 👏🏻 Un saludote desde Colombia, espero algún día verlos. \n\nDejaré la vergüenza y les comentaré más seguido! 🇨🇴",
         "snippet.topLevelComment.snippet.updatedAt": "2024-04-21T14:07:13Z",
         "snippet.topLevelComment.snippet.videoId": "cQ9RLDhq6JY",
         "snippet.topLevelComment.snippet.viewerRating": "none",
         "snippet.totalReplyCount": 0,
         "snippet.videoId": "cQ9RLDhq6JY"
        },
        {
         "_deepnote_index_column": 6,
         "category_description": "Propuestas y recomendaciones",
         "category_id": 2,
         "etag": "tJE1ktJ7jmnk1YavbnCxkIusEIc",
         "id": "UgwYysDGryEsZbRTAU14AaABAg",
         "kind": "youtube#commentThread",
         "replies.comments": "nan",
         "snippet.canReply": "True",
         "snippet.channelId": "UCeYSnd34IPe57sM8hkjWhrw",
         "snippet.isPublic": "True",
         "snippet.topLevelComment.etag": "3sn6c7a7MjPlXjpqK5M5T12G4sE",
         "snippet.topLevelComment.id": "UgwYysDGryEsZbRTAU14AaABAg",
         "snippet.topLevelComment.kind": "youtube#comment",
         "snippet.topLevelComment.snippet.authorChannelId.value": "UCXvmnkFrELyixdcNFadRfdA",
         "snippet.topLevelComment.snippet.authorChannelUrl": "http://www.youtube.com/@everlopez7073",
         "snippet.topLevelComment.snippet.authorDisplayName": "@everlopez7073",
         "snippet.topLevelComment.snippet.authorProfileImageUrl": "https://yt3.ggpht.com/ytc/AIdro_k6fw9vKcDAuvnXi9WsgEk15f_HmEcmvBbTx6hiZGL2B7w=s48-c-k-c0x00ffffff-no-rj",
         "snippet.topLevelComment.snippet.canRate": "True",
         "snippet.topLevelComment.snippet.channelId": "UCeYSnd34IPe57sM8hkjWhrw",
         "snippet.topLevelComment.snippet.likeCount": 0,
         "snippet.topLevelComment.snippet.publishedAt": "2024-04-17T15:58:46Z",
         "snippet.topLevelComment.snippet.textDisplay": "Va a llegar el podcast de la guerra de China vs Taiwan y la de la guerra del medio oriente y seguiremos esperando la tercera parte del imperio japones 😁",
         "snippet.topLevelComment.snippet.textOriginal": "Va a llegar el podcast de la guerra de China vs Taiwan y la de la guerra del medio oriente y seguiremos esperando la tercera parte del imperio japones 😁",
         "snippet.topLevelComment.snippet.updatedAt": "2024-04-17T15:58:46Z",
         "snippet.topLevelComment.snippet.videoId": "cQ9RLDhq6JY",
         "snippet.topLevelComment.snippet.viewerRating": "none",
         "snippet.totalReplyCount": 0,
         "snippet.videoId": "cQ9RLDhq6JY"
        },
        {
         "_deepnote_index_column": 7,
         "category_description": "Comentarios generales",
         "category_id": 7,
         "etag": "UlHWlQZ-fmWV3eq8x2qHGL4iGx0",
         "id": "UgxFEqcV0iismXwJim54AaABAg",
         "kind": "youtube#commentThread",
         "replies.comments": "nan",
         "snippet.canReply": "True",
         "snippet.channelId": "UCeYSnd34IPe57sM8hkjWhrw",
         "snippet.isPublic": "True",
         "snippet.topLevelComment.etag": "-o035aZfxMhu0CoQVnr6veEpXPc",
         "snippet.topLevelComment.id": "UgxFEqcV0iismXwJim54AaABAg",
         "snippet.topLevelComment.kind": "youtube#comment",
         "snippet.topLevelComment.snippet.authorChannelId.value": "UCvHySKELM8S4ZWFUETyoTRA",
         "snippet.topLevelComment.snippet.authorChannelUrl": "http://www.youtube.com/@miguelleal4920",
         "snippet.topLevelComment.snippet.authorDisplayName": "@miguelleal4920",
         "snippet.topLevelComment.snippet.authorProfileImageUrl": "https://yt3.ggpht.com/ytc/AIdro_lomUyWLDjs8BbUtU7XjeNNoFg76Ai22p5huLPehaLTKxY=s48-c-k-c0x00ffffff-no-rj",
         "snippet.topLevelComment.snippet.canRate": "True",
         "snippet.topLevelComment.snippet.channelId": "UCeYSnd34IPe57sM8hkjWhrw",
         "snippet.topLevelComment.snippet.likeCount": 0,
         "snippet.topLevelComment.snippet.publishedAt": "2024-04-15T14:48:27Z",
         "snippet.topLevelComment.snippet.textDisplay": "❤",
         "snippet.topLevelComment.snippet.textOriginal": "❤",
         "snippet.topLevelComment.snippet.updatedAt": "2024-04-15T14:48:27Z",
         "snippet.topLevelComment.snippet.videoId": "cQ9RLDhq6JY",
         "snippet.topLevelComment.snippet.viewerRating": "none",
         "snippet.totalReplyCount": 0,
         "snippet.videoId": "cQ9RLDhq6JY"
        },
        {
         "_deepnote_index_column": 8,
         "category_description": "Comentarios generales",
         "category_id": 7,
         "etag": "fy-Sknelczt9bS6WJw9yvjRrGcQ",
         "id": "UgxHA8_iEUSeBgZTsup4AaABAg",
         "kind": "youtube#commentThread",
         "replies.comments": "nan",
         "snippet.canReply": "True",
         "snippet.channelId": "UCeYSnd34IPe57sM8hkjWhrw",
         "snippet.isPublic": "True",
         "snippet.topLevelComment.etag": "T7yK109D4mZ3mv1eZQ-zmcL6plY",
         "snippet.topLevelComment.id": "UgxHA8_iEUSeBgZTsup4AaABAg",
         "snippet.topLevelComment.kind": "youtube#comment",
         "snippet.topLevelComment.snippet.authorChannelId.value": "UCrwBHZiV3ohnj4DD3pGIxvQ",
         "snippet.topLevelComment.snippet.authorChannelUrl": "http://www.youtube.com/@lizbethavendano9341",
         "snippet.topLevelComment.snippet.authorDisplayName": "@lizbethavendano9341",
         "snippet.topLevelComment.snippet.authorProfileImageUrl": "https://yt3.ggpht.com/ytc/AIdro_lUZp9TH0pl3f7kc8j9U4jJ4YWhEacA_RH52EZnvuo=s48-c-k-c0x00ffffff-no-rj",
         "snippet.topLevelComment.snippet.canRate": "True",
         "snippet.topLevelComment.snippet.channelId": "UCeYSnd34IPe57sM8hkjWhrw",
         "snippet.topLevelComment.snippet.likeCount": 0,
         "snippet.topLevelComment.snippet.publishedAt": "2024-04-13T17:01:32Z",
         "snippet.topLevelComment.snippet.textDisplay": "Profirió Díaz por fi",
         "snippet.topLevelComment.snippet.textOriginal": "Profirió Díaz por fi",
         "snippet.topLevelComment.snippet.updatedAt": "2024-04-13T17:01:32Z",
         "snippet.topLevelComment.snippet.videoId": "cQ9RLDhq6JY",
         "snippet.topLevelComment.snippet.viewerRating": "none",
         "snippet.totalReplyCount": 0,
         "snippet.videoId": "cQ9RLDhq6JY"
        },
        {
         "_deepnote_index_column": 9,
         "category_description": "Felicitaciones y agradecimientos",
         "category_id": 5,
         "etag": "OXooVse9x9PNHG9udr1VR8H6yC0",
         "id": "UgwmDUx8tVunEB6fjH14AaABAg",
         "kind": "youtube#commentThread",
         "replies.comments": "nan",
         "snippet.canReply": "True",
         "snippet.channelId": "UCeYSnd34IPe57sM8hkjWhrw",
         "snippet.isPublic": "True",
         "snippet.topLevelComment.etag": "TgSp8gwgR5nZhm77ZuftXwhBjNU",
         "snippet.topLevelComment.id": "UgwmDUx8tVunEB6fjH14AaABAg",
         "snippet.topLevelComment.kind": "youtube#comment",
         "snippet.topLevelComment.snippet.authorChannelId.value": "UCnLRSzbANNXdlRfDyDswT6w",
         "snippet.topLevelComment.snippet.authorChannelUrl": "http://www.youtube.com/@ashckraky",
         "snippet.topLevelComment.snippet.authorDisplayName": "@ashckraky",
         "snippet.topLevelComment.snippet.authorProfileImageUrl": "https://yt3.ggpht.com/ytc/AIdro_l6m0F-8T5ULJ8Ehz07yAWSXuZmjn_GtSyNC_ovXA3n9FEh=s48-c-k-c0x00ffffff-no-rj",
         "snippet.topLevelComment.snippet.canRate": "True",
         "snippet.topLevelComment.snippet.channelId": "UCeYSnd34IPe57sM8hkjWhrw",
         "snippet.topLevelComment.snippet.likeCount": 1,
         "snippet.topLevelComment.snippet.publishedAt": "2024-04-13T16:55:26Z",
         "snippet.topLevelComment.snippet.textDisplay": "Aquí Colombia presente ✌🏼🇨🇴. Me encanta la historia y ustedes la hacen muy sabrosa. Gracias y larga vida a Historia para tontos!!",
         "snippet.topLevelComment.snippet.textOriginal": "Aquí Colombia presente ✌🏼🇨🇴. Me encanta la historia y ustedes la hacen muy sabrosa. Gracias y larga vida a Historia para tontos!!",
         "snippet.topLevelComment.snippet.updatedAt": "2024-04-13T16:55:26Z",
         "snippet.topLevelComment.snippet.videoId": "cQ9RLDhq6JY",
         "snippet.topLevelComment.snippet.viewerRating": "none",
         "snippet.totalReplyCount": 0,
         "snippet.videoId": "cQ9RLDhq6JY"
        }
       ]
      },
      "text/html": [
       "<div>\n",
       "<style scoped>\n",
       "    .dataframe tbody tr th:only-of-type {\n",
       "        vertical-align: middle;\n",
       "    }\n",
       "\n",
       "    .dataframe tbody tr th {\n",
       "        vertical-align: top;\n",
       "    }\n",
       "\n",
       "    .dataframe thead th {\n",
       "        text-align: right;\n",
       "    }\n",
       "</style>\n",
       "<table border=\"1\" class=\"dataframe\">\n",
       "  <thead>\n",
       "    <tr style=\"text-align: right;\">\n",
       "      <th></th>\n",
       "      <th>kind</th>\n",
       "      <th>etag</th>\n",
       "      <th>id</th>\n",
       "      <th>snippet.channelId</th>\n",
       "      <th>snippet.videoId</th>\n",
       "      <th>snippet.topLevelComment.kind</th>\n",
       "      <th>snippet.topLevelComment.etag</th>\n",
       "      <th>snippet.topLevelComment.id</th>\n",
       "      <th>snippet.topLevelComment.snippet.channelId</th>\n",
       "      <th>snippet.topLevelComment.snippet.videoId</th>\n",
       "      <th>...</th>\n",
       "      <th>snippet.topLevelComment.snippet.viewerRating</th>\n",
       "      <th>snippet.topLevelComment.snippet.likeCount</th>\n",
       "      <th>snippet.topLevelComment.snippet.publishedAt</th>\n",
       "      <th>snippet.topLevelComment.snippet.updatedAt</th>\n",
       "      <th>snippet.canReply</th>\n",
       "      <th>snippet.totalReplyCount</th>\n",
       "      <th>snippet.isPublic</th>\n",
       "      <th>replies.comments</th>\n",
       "      <th>category_id</th>\n",
       "      <th>category_description</th>\n",
       "    </tr>\n",
       "  </thead>\n",
       "  <tbody>\n",
       "    <tr>\n",
       "      <th>0</th>\n",
       "      <td>youtube#commentThread</td>\n",
       "      <td>35SzVbfAjbh-WxxI6CDcz8jJalE</td>\n",
       "      <td>Ugz0QmXyVLSM0nUK7kB4AaABAg</td>\n",
       "      <td>UCeYSnd34IPe57sM8hkjWhrw</td>\n",
       "      <td>cQ9RLDhq6JY</td>\n",
       "      <td>youtube#comment</td>\n",
       "      <td>yopv5G2xkuk2ZN4mdQMDcEtKmS4</td>\n",
       "      <td>Ugz0QmXyVLSM0nUK7kB4AaABAg</td>\n",
       "      <td>UCeYSnd34IPe57sM8hkjWhrw</td>\n",
       "      <td>cQ9RLDhq6JY</td>\n",
       "      <td>...</td>\n",
       "      <td>none</td>\n",
       "      <td>0</td>\n",
       "      <td>2024-07-15T12:41:43Z</td>\n",
       "      <td>2024-07-15T12:41:43Z</td>\n",
       "      <td>True</td>\n",
       "      <td>0</td>\n",
       "      <td>True</td>\n",
       "      <td>NaN</td>\n",
       "      <td>1</td>\n",
       "      <td>Quejas o sugerencias de mejora</td>\n",
       "    </tr>\n",
       "    <tr>\n",
       "      <th>1</th>\n",
       "      <td>youtube#commentThread</td>\n",
       "      <td>D5l-LBB9fD-VlBImz-EN9K8mTmM</td>\n",
       "      <td>UgyJhRBhVcbyStZdxjR4AaABAg</td>\n",
       "      <td>UCeYSnd34IPe57sM8hkjWhrw</td>\n",
       "      <td>cQ9RLDhq6JY</td>\n",
       "      <td>youtube#comment</td>\n",
       "      <td>avm1UM6tZkxbnMkp59t7_36GZrk</td>\n",
       "      <td>UgyJhRBhVcbyStZdxjR4AaABAg</td>\n",
       "      <td>UCeYSnd34IPe57sM8hkjWhrw</td>\n",
       "      <td>cQ9RLDhq6JY</td>\n",
       "      <td>...</td>\n",
       "      <td>none</td>\n",
       "      <td>0</td>\n",
       "      <td>2024-05-26T21:41:04Z</td>\n",
       "      <td>2024-05-26T21:41:04Z</td>\n",
       "      <td>True</td>\n",
       "      <td>0</td>\n",
       "      <td>True</td>\n",
       "      <td>NaN</td>\n",
       "      <td>7</td>\n",
       "      <td>Comentarios generales</td>\n",
       "    </tr>\n",
       "    <tr>\n",
       "      <th>2</th>\n",
       "      <td>youtube#commentThread</td>\n",
       "      <td>iKN6FQSPLo3xUlizd--6R0h2SN8</td>\n",
       "      <td>UgzT1q2am7kMEM5ckDp4AaABAg</td>\n",
       "      <td>UCeYSnd34IPe57sM8hkjWhrw</td>\n",
       "      <td>cQ9RLDhq6JY</td>\n",
       "      <td>youtube#comment</td>\n",
       "      <td>g6vw71KL8rJyQPLYPCUCm4O6rbA</td>\n",
       "      <td>UgzT1q2am7kMEM5ckDp4AaABAg</td>\n",
       "      <td>UCeYSnd34IPe57sM8hkjWhrw</td>\n",
       "      <td>cQ9RLDhq6JY</td>\n",
       "      <td>...</td>\n",
       "      <td>none</td>\n",
       "      <td>0</td>\n",
       "      <td>2024-05-23T22:06:21Z</td>\n",
       "      <td>2024-05-23T22:06:21Z</td>\n",
       "      <td>True</td>\n",
       "      <td>0</td>\n",
       "      <td>True</td>\n",
       "      <td>NaN</td>\n",
       "      <td>7</td>\n",
       "      <td>Comentarios generales</td>\n",
       "    </tr>\n",
       "    <tr>\n",
       "      <th>3</th>\n",
       "      <td>youtube#commentThread</td>\n",
       "      <td>hkErqy7RZOwAKS6YyNXqwPFTCAg</td>\n",
       "      <td>Ugyckucg38lqZFdZhaR4AaABAg</td>\n",
       "      <td>UCeYSnd34IPe57sM8hkjWhrw</td>\n",
       "      <td>cQ9RLDhq6JY</td>\n",
       "      <td>youtube#comment</td>\n",
       "      <td>soQFV-F5m7bRA03fMjI1IoKQrGs</td>\n",
       "      <td>Ugyckucg38lqZFdZhaR4AaABAg</td>\n",
       "      <td>UCeYSnd34IPe57sM8hkjWhrw</td>\n",
       "      <td>cQ9RLDhq6JY</td>\n",
       "      <td>...</td>\n",
       "      <td>none</td>\n",
       "      <td>0</td>\n",
       "      <td>2024-05-05T09:24:57Z</td>\n",
       "      <td>2024-05-05T09:24:57Z</td>\n",
       "      <td>True</td>\n",
       "      <td>0</td>\n",
       "      <td>True</td>\n",
       "      <td>NaN</td>\n",
       "      <td>6</td>\n",
       "      <td>Comentarios humorísticos o memes</td>\n",
       "    </tr>\n",
       "    <tr>\n",
       "      <th>4</th>\n",
       "      <td>youtube#commentThread</td>\n",
       "      <td>9c50dNDxQ96ZYyFK1aeJYj4ofnQ</td>\n",
       "      <td>UgzhZHVt-tEbDpbCvtB4AaABAg</td>\n",
       "      <td>UCeYSnd34IPe57sM8hkjWhrw</td>\n",
       "      <td>cQ9RLDhq6JY</td>\n",
       "      <td>youtube#comment</td>\n",
       "      <td>wLebngIiKaOrIw1ibNjosSTEyFc</td>\n",
       "      <td>UgzhZHVt-tEbDpbCvtB4AaABAg</td>\n",
       "      <td>UCeYSnd34IPe57sM8hkjWhrw</td>\n",
       "      <td>cQ9RLDhq6JY</td>\n",
       "      <td>...</td>\n",
       "      <td>none</td>\n",
       "      <td>0</td>\n",
       "      <td>2024-04-21T21:09:08Z</td>\n",
       "      <td>2024-04-21T21:09:08Z</td>\n",
       "      <td>True</td>\n",
       "      <td>0</td>\n",
       "      <td>True</td>\n",
       "      <td>NaN</td>\n",
       "      <td>5</td>\n",
       "      <td>Felicitaciones y agradecimientos</td>\n",
       "    </tr>\n",
       "    <tr>\n",
       "      <th>...</th>\n",
       "      <td>...</td>\n",
       "      <td>...</td>\n",
       "      <td>...</td>\n",
       "      <td>...</td>\n",
       "      <td>...</td>\n",
       "      <td>...</td>\n",
       "      <td>...</td>\n",
       "      <td>...</td>\n",
       "      <td>...</td>\n",
       "      <td>...</td>\n",
       "      <td>...</td>\n",
       "      <td>...</td>\n",
       "      <td>...</td>\n",
       "      <td>...</td>\n",
       "      <td>...</td>\n",
       "      <td>...</td>\n",
       "      <td>...</td>\n",
       "      <td>...</td>\n",
       "      <td>...</td>\n",
       "      <td>...</td>\n",
       "      <td>...</td>\n",
       "    </tr>\n",
       "    <tr>\n",
       "      <th>1021</th>\n",
       "      <td>youtube#commentThread</td>\n",
       "      <td>8wSxk2QdKgz2v0AUy3EsWvUOxSU</td>\n",
       "      <td>Ugyuq-tSoKFj7HEnAQ54AaABAg</td>\n",
       "      <td>UCeYSnd34IPe57sM8hkjWhrw</td>\n",
       "      <td>t3MogAmkMUg</td>\n",
       "      <td>youtube#comment</td>\n",
       "      <td>G_pL0x_Nmvi7C0kj8fHi_IWkcCA</td>\n",
       "      <td>Ugyuq-tSoKFj7HEnAQ54AaABAg</td>\n",
       "      <td>UCeYSnd34IPe57sM8hkjWhrw</td>\n",
       "      <td>t3MogAmkMUg</td>\n",
       "      <td>...</td>\n",
       "      <td>none</td>\n",
       "      <td>0</td>\n",
       "      <td>2024-08-19T19:46:46Z</td>\n",
       "      <td>2024-08-19T19:46:46Z</td>\n",
       "      <td>True</td>\n",
       "      <td>0</td>\n",
       "      <td>True</td>\n",
       "      <td>NaN</td>\n",
       "      <td>6</td>\n",
       "      <td>Comentarios humorísticos o memes</td>\n",
       "    </tr>\n",
       "    <tr>\n",
       "      <th>1022</th>\n",
       "      <td>youtube#commentThread</td>\n",
       "      <td>X4xqkZX0x2OmHUMWh4fe2ck4iGA</td>\n",
       "      <td>Ugy2h_vD89gf_8eeFph4AaABAg</td>\n",
       "      <td>UCeYSnd34IPe57sM8hkjWhrw</td>\n",
       "      <td>t3MogAmkMUg</td>\n",
       "      <td>youtube#comment</td>\n",
       "      <td>fWBX1bGUjpM7nRaQcNKN1P7BpFQ</td>\n",
       "      <td>Ugy2h_vD89gf_8eeFph4AaABAg</td>\n",
       "      <td>UCeYSnd34IPe57sM8hkjWhrw</td>\n",
       "      <td>t3MogAmkMUg</td>\n",
       "      <td>...</td>\n",
       "      <td>none</td>\n",
       "      <td>0</td>\n",
       "      <td>2024-08-19T19:33:41Z</td>\n",
       "      <td>2024-08-19T19:33:41Z</td>\n",
       "      <td>True</td>\n",
       "      <td>0</td>\n",
       "      <td>True</td>\n",
       "      <td>NaN</td>\n",
       "      <td>2</td>\n",
       "      <td>Propuestas y recomendaciones</td>\n",
       "    </tr>\n",
       "    <tr>\n",
       "      <th>1023</th>\n",
       "      <td>youtube#commentThread</td>\n",
       "      <td>btoZQh1KTx4_A0e8kLI3d4BAUmg</td>\n",
       "      <td>Ugx7vBivUc-z-n8H76t4AaABAg</td>\n",
       "      <td>UCeYSnd34IPe57sM8hkjWhrw</td>\n",
       "      <td>t3MogAmkMUg</td>\n",
       "      <td>youtube#comment</td>\n",
       "      <td>CcywvY3FEol-BcpzJpjundijK6k</td>\n",
       "      <td>Ugx7vBivUc-z-n8H76t4AaABAg</td>\n",
       "      <td>UCeYSnd34IPe57sM8hkjWhrw</td>\n",
       "      <td>t3MogAmkMUg</td>\n",
       "      <td>...</td>\n",
       "      <td>none</td>\n",
       "      <td>1</td>\n",
       "      <td>2024-08-19T19:33:18Z</td>\n",
       "      <td>2024-08-19T19:33:18Z</td>\n",
       "      <td>True</td>\n",
       "      <td>0</td>\n",
       "      <td>True</td>\n",
       "      <td>NaN</td>\n",
       "      <td>1</td>\n",
       "      <td>Quejas o sugerencias de mejora</td>\n",
       "    </tr>\n",
       "    <tr>\n",
       "      <th>1024</th>\n",
       "      <td>youtube#commentThread</td>\n",
       "      <td>Xf-HPCYvwS0mb7JyqR4t_eoHZx4</td>\n",
       "      <td>Ugzvu7xFsIUo8ibNXPJ4AaABAg</td>\n",
       "      <td>UCeYSnd34IPe57sM8hkjWhrw</td>\n",
       "      <td>t3MogAmkMUg</td>\n",
       "      <td>youtube#comment</td>\n",
       "      <td>FLjbXmI4uIIbM1ZQNW-hMSKWARM</td>\n",
       "      <td>Ugzvu7xFsIUo8ibNXPJ4AaABAg</td>\n",
       "      <td>UCeYSnd34IPe57sM8hkjWhrw</td>\n",
       "      <td>t3MogAmkMUg</td>\n",
       "      <td>...</td>\n",
       "      <td>none</td>\n",
       "      <td>0</td>\n",
       "      <td>2024-08-19T19:13:00Z</td>\n",
       "      <td>2024-08-19T19:13:00Z</td>\n",
       "      <td>True</td>\n",
       "      <td>0</td>\n",
       "      <td>True</td>\n",
       "      <td>NaN</td>\n",
       "      <td>4</td>\n",
       "      <td>Correcciones o datos adicionales</td>\n",
       "    </tr>\n",
       "    <tr>\n",
       "      <th>1025</th>\n",
       "      <td>youtube#commentThread</td>\n",
       "      <td>OBq15WOOkVZGkZnpWOHgG9R_IwA</td>\n",
       "      <td>Ugx6mGMWrp3CU7o7Lwd4AaABAg</td>\n",
       "      <td>UCeYSnd34IPe57sM8hkjWhrw</td>\n",
       "      <td>t3MogAmkMUg</td>\n",
       "      <td>youtube#comment</td>\n",
       "      <td>yv8yKkXG4JYnco8VDd5FE9AWIto</td>\n",
       "      <td>Ugx6mGMWrp3CU7o7Lwd4AaABAg</td>\n",
       "      <td>UCeYSnd34IPe57sM8hkjWhrw</td>\n",
       "      <td>t3MogAmkMUg</td>\n",
       "      <td>...</td>\n",
       "      <td>none</td>\n",
       "      <td>0</td>\n",
       "      <td>2024-08-19T18:55:54Z</td>\n",
       "      <td>2024-08-19T18:55:54Z</td>\n",
       "      <td>True</td>\n",
       "      <td>0</td>\n",
       "      <td>True</td>\n",
       "      <td>NaN</td>\n",
       "      <td>7</td>\n",
       "      <td>Comentarios generales</td>\n",
       "    </tr>\n",
       "  </tbody>\n",
       "</table>\n",
       "<p>1026 rows × 27 columns</p>\n",
       "</div>"
      ],
      "text/plain": [
       "                       kind                         etag  \\\n",
       "0     youtube#commentThread  35SzVbfAjbh-WxxI6CDcz8jJalE   \n",
       "1     youtube#commentThread  D5l-LBB9fD-VlBImz-EN9K8mTmM   \n",
       "2     youtube#commentThread  iKN6FQSPLo3xUlizd--6R0h2SN8   \n",
       "3     youtube#commentThread  hkErqy7RZOwAKS6YyNXqwPFTCAg   \n",
       "4     youtube#commentThread  9c50dNDxQ96ZYyFK1aeJYj4ofnQ   \n",
       "...                     ...                          ...   \n",
       "1021  youtube#commentThread  8wSxk2QdKgz2v0AUy3EsWvUOxSU   \n",
       "1022  youtube#commentThread  X4xqkZX0x2OmHUMWh4fe2ck4iGA   \n",
       "1023  youtube#commentThread  btoZQh1KTx4_A0e8kLI3d4BAUmg   \n",
       "1024  youtube#commentThread  Xf-HPCYvwS0mb7JyqR4t_eoHZx4   \n",
       "1025  youtube#commentThread  OBq15WOOkVZGkZnpWOHgG9R_IwA   \n",
       "\n",
       "                              id         snippet.channelId snippet.videoId  \\\n",
       "0     Ugz0QmXyVLSM0nUK7kB4AaABAg  UCeYSnd34IPe57sM8hkjWhrw     cQ9RLDhq6JY   \n",
       "1     UgyJhRBhVcbyStZdxjR4AaABAg  UCeYSnd34IPe57sM8hkjWhrw     cQ9RLDhq6JY   \n",
       "2     UgzT1q2am7kMEM5ckDp4AaABAg  UCeYSnd34IPe57sM8hkjWhrw     cQ9RLDhq6JY   \n",
       "3     Ugyckucg38lqZFdZhaR4AaABAg  UCeYSnd34IPe57sM8hkjWhrw     cQ9RLDhq6JY   \n",
       "4     UgzhZHVt-tEbDpbCvtB4AaABAg  UCeYSnd34IPe57sM8hkjWhrw     cQ9RLDhq6JY   \n",
       "...                          ...                       ...             ...   \n",
       "1021  Ugyuq-tSoKFj7HEnAQ54AaABAg  UCeYSnd34IPe57sM8hkjWhrw     t3MogAmkMUg   \n",
       "1022  Ugy2h_vD89gf_8eeFph4AaABAg  UCeYSnd34IPe57sM8hkjWhrw     t3MogAmkMUg   \n",
       "1023  Ugx7vBivUc-z-n8H76t4AaABAg  UCeYSnd34IPe57sM8hkjWhrw     t3MogAmkMUg   \n",
       "1024  Ugzvu7xFsIUo8ibNXPJ4AaABAg  UCeYSnd34IPe57sM8hkjWhrw     t3MogAmkMUg   \n",
       "1025  Ugx6mGMWrp3CU7o7Lwd4AaABAg  UCeYSnd34IPe57sM8hkjWhrw     t3MogAmkMUg   \n",
       "\n",
       "     snippet.topLevelComment.kind snippet.topLevelComment.etag  \\\n",
       "0                 youtube#comment  yopv5G2xkuk2ZN4mdQMDcEtKmS4   \n",
       "1                 youtube#comment  avm1UM6tZkxbnMkp59t7_36GZrk   \n",
       "2                 youtube#comment  g6vw71KL8rJyQPLYPCUCm4O6rbA   \n",
       "3                 youtube#comment  soQFV-F5m7bRA03fMjI1IoKQrGs   \n",
       "4                 youtube#comment  wLebngIiKaOrIw1ibNjosSTEyFc   \n",
       "...                           ...                          ...   \n",
       "1021              youtube#comment  G_pL0x_Nmvi7C0kj8fHi_IWkcCA   \n",
       "1022              youtube#comment  fWBX1bGUjpM7nRaQcNKN1P7BpFQ   \n",
       "1023              youtube#comment  CcywvY3FEol-BcpzJpjundijK6k   \n",
       "1024              youtube#comment  FLjbXmI4uIIbM1ZQNW-hMSKWARM   \n",
       "1025              youtube#comment  yv8yKkXG4JYnco8VDd5FE9AWIto   \n",
       "\n",
       "      snippet.topLevelComment.id snippet.topLevelComment.snippet.channelId  \\\n",
       "0     Ugz0QmXyVLSM0nUK7kB4AaABAg                  UCeYSnd34IPe57sM8hkjWhrw   \n",
       "1     UgyJhRBhVcbyStZdxjR4AaABAg                  UCeYSnd34IPe57sM8hkjWhrw   \n",
       "2     UgzT1q2am7kMEM5ckDp4AaABAg                  UCeYSnd34IPe57sM8hkjWhrw   \n",
       "3     Ugyckucg38lqZFdZhaR4AaABAg                  UCeYSnd34IPe57sM8hkjWhrw   \n",
       "4     UgzhZHVt-tEbDpbCvtB4AaABAg                  UCeYSnd34IPe57sM8hkjWhrw   \n",
       "...                          ...                                       ...   \n",
       "1021  Ugyuq-tSoKFj7HEnAQ54AaABAg                  UCeYSnd34IPe57sM8hkjWhrw   \n",
       "1022  Ugy2h_vD89gf_8eeFph4AaABAg                  UCeYSnd34IPe57sM8hkjWhrw   \n",
       "1023  Ugx7vBivUc-z-n8H76t4AaABAg                  UCeYSnd34IPe57sM8hkjWhrw   \n",
       "1024  Ugzvu7xFsIUo8ibNXPJ4AaABAg                  UCeYSnd34IPe57sM8hkjWhrw   \n",
       "1025  Ugx6mGMWrp3CU7o7Lwd4AaABAg                  UCeYSnd34IPe57sM8hkjWhrw   \n",
       "\n",
       "     snippet.topLevelComment.snippet.videoId  ...  \\\n",
       "0                                cQ9RLDhq6JY  ...   \n",
       "1                                cQ9RLDhq6JY  ...   \n",
       "2                                cQ9RLDhq6JY  ...   \n",
       "3                                cQ9RLDhq6JY  ...   \n",
       "4                                cQ9RLDhq6JY  ...   \n",
       "...                                      ...  ...   \n",
       "1021                             t3MogAmkMUg  ...   \n",
       "1022                             t3MogAmkMUg  ...   \n",
       "1023                             t3MogAmkMUg  ...   \n",
       "1024                             t3MogAmkMUg  ...   \n",
       "1025                             t3MogAmkMUg  ...   \n",
       "\n",
       "     snippet.topLevelComment.snippet.viewerRating  \\\n",
       "0                                            none   \n",
       "1                                            none   \n",
       "2                                            none   \n",
       "3                                            none   \n",
       "4                                            none   \n",
       "...                                           ...   \n",
       "1021                                         none   \n",
       "1022                                         none   \n",
       "1023                                         none   \n",
       "1024                                         none   \n",
       "1025                                         none   \n",
       "\n",
       "     snippet.topLevelComment.snippet.likeCount  \\\n",
       "0                                            0   \n",
       "1                                            0   \n",
       "2                                            0   \n",
       "3                                            0   \n",
       "4                                            0   \n",
       "...                                        ...   \n",
       "1021                                         0   \n",
       "1022                                         0   \n",
       "1023                                         1   \n",
       "1024                                         0   \n",
       "1025                                         0   \n",
       "\n",
       "     snippet.topLevelComment.snippet.publishedAt  \\\n",
       "0                           2024-07-15T12:41:43Z   \n",
       "1                           2024-05-26T21:41:04Z   \n",
       "2                           2024-05-23T22:06:21Z   \n",
       "3                           2024-05-05T09:24:57Z   \n",
       "4                           2024-04-21T21:09:08Z   \n",
       "...                                          ...   \n",
       "1021                        2024-08-19T19:46:46Z   \n",
       "1022                        2024-08-19T19:33:41Z   \n",
       "1023                        2024-08-19T19:33:18Z   \n",
       "1024                        2024-08-19T19:13:00Z   \n",
       "1025                        2024-08-19T18:55:54Z   \n",
       "\n",
       "     snippet.topLevelComment.snippet.updatedAt snippet.canReply  \\\n",
       "0                         2024-07-15T12:41:43Z             True   \n",
       "1                         2024-05-26T21:41:04Z             True   \n",
       "2                         2024-05-23T22:06:21Z             True   \n",
       "3                         2024-05-05T09:24:57Z             True   \n",
       "4                         2024-04-21T21:09:08Z             True   \n",
       "...                                        ...              ...   \n",
       "1021                      2024-08-19T19:46:46Z             True   \n",
       "1022                      2024-08-19T19:33:41Z             True   \n",
       "1023                      2024-08-19T19:33:18Z             True   \n",
       "1024                      2024-08-19T19:13:00Z             True   \n",
       "1025                      2024-08-19T18:55:54Z             True   \n",
       "\n",
       "     snippet.totalReplyCount  snippet.isPublic replies.comments  category_id  \\\n",
       "0                          0              True              NaN            1   \n",
       "1                          0              True              NaN            7   \n",
       "2                          0              True              NaN            7   \n",
       "3                          0              True              NaN            6   \n",
       "4                          0              True              NaN            5   \n",
       "...                      ...               ...              ...          ...   \n",
       "1021                       0              True              NaN            6   \n",
       "1022                       0              True              NaN            2   \n",
       "1023                       0              True              NaN            1   \n",
       "1024                       0              True              NaN            4   \n",
       "1025                       0              True              NaN            7   \n",
       "\n",
       "                  category_description  \n",
       "0       Quejas o sugerencias de mejora  \n",
       "1                Comentarios generales  \n",
       "2                Comentarios generales  \n",
       "3     Comentarios humorísticos o memes  \n",
       "4     Felicitaciones y agradecimientos  \n",
       "...                                ...  \n",
       "1021  Comentarios humorísticos o memes  \n",
       "1022      Propuestas y recomendaciones  \n",
       "1023    Quejas o sugerencias de mejora  \n",
       "1024  Correcciones o datos adicionales  \n",
       "1025             Comentarios generales  \n",
       "\n",
       "[1026 rows x 27 columns]"
      ]
     },
     "execution_count": 5,
     "metadata": {},
     "output_type": "execute_result"
    }
   ],
   "source": [
    "df"
   ]
  },
  {
   "cell_type": "code",
   "execution_count": 7,
   "metadata": {
    "cell_id": "beff5161cbc7451d9ec907cc4e9a7589",
    "deepnote_cell_type": "code",
    "execution_context_id": "ebffac48-d7d4-4d08-82df-fc828ed51eb8",
    "execution_millis": 2,
    "execution_start": 1733952263071,
    "source_hash": "25d43fa0"
   },
   "outputs": [
    {
     "data": {
      "text/plain": [
       "Index(['kind', 'etag', 'id', 'snippet.channelId', 'snippet.videoId',\n",
       "       'snippet.topLevelComment.kind', 'snippet.topLevelComment.etag',\n",
       "       'snippet.topLevelComment.id',\n",
       "       'snippet.topLevelComment.snippet.channelId',\n",
       "       'snippet.topLevelComment.snippet.videoId',\n",
       "       'snippet.topLevelComment.snippet.textDisplay',\n",
       "       'snippet.topLevelComment.snippet.textOriginal',\n",
       "       'snippet.topLevelComment.snippet.authorDisplayName',\n",
       "       'snippet.topLevelComment.snippet.authorProfileImageUrl',\n",
       "       'snippet.topLevelComment.snippet.authorChannelUrl',\n",
       "       'snippet.topLevelComment.snippet.authorChannelId.value',\n",
       "       'snippet.topLevelComment.snippet.canRate',\n",
       "       'snippet.topLevelComment.snippet.viewerRating',\n",
       "       'snippet.topLevelComment.snippet.likeCount',\n",
       "       'snippet.topLevelComment.snippet.publishedAt',\n",
       "       'snippet.topLevelComment.snippet.updatedAt', 'snippet.canReply',\n",
       "       'snippet.totalReplyCount', 'snippet.isPublic', 'replies.comments',\n",
       "       'category_id', 'category_description'],\n",
       "      dtype='object')"
      ]
     },
     "execution_count": 7,
     "metadata": {},
     "output_type": "execute_result"
    }
   ],
   "source": [
    "df.columns"
   ]
  },
  {
   "cell_type": "code",
   "execution_count": null,
   "metadata": {
    "cell_id": "2258fefdaf32473eacd48ecfc0df6d9c",
    "deepnote_cell_type": "code",
    "execution_context_id": "fba7e579-695f-460b-98f9-23b89a620e97",
    "execution_millis": 4,
    "execution_start": 1732328045303,
    "source_hash": "a5d9e96a"
   },
   "outputs": [],
   "source": [
    "API_KEY = \"\""
   ]
  },
  {
   "cell_type": "code",
   "execution_count": 10,
   "metadata": {
    "cell_id": "404cea3c8ecb40d184c17c0ff703f0f9",
    "deepnote_cell_type": "code",
    "execution_context_id": "fba7e579-695f-460b-98f9-23b89a620e97",
    "execution_millis": 0,
    "execution_start": 1732328046687,
    "source_hash": "387c0f13"
   },
   "outputs": [],
   "source": [
    "def create_prompt(comment: str) -> str:\n",
    "    return f\"\"\"\n",
    "    Tienes la tarea de categorizar comentarios de usuarios en categorías predefinidas. \n",
    "    Cada comentario pertenece solo a una categoría. Las categorías son las siguientes:\n",
    "\n",
    "    1. Quejas o sugerencias de mejora: Comentarios que señalan problemas o aportan ideas para mejorar \n",
    "    el contenido, calidad o distribución.  \n",
    "    2. Propuestas y recomendaciones: Comentarios amables que incluyen sugerencias de invitados, \n",
    "    temas para explorar o dinámicas para el programa.  \n",
    "    3. Experiencias personales: Historias o anécdotas relacionadas con el contenido \n",
    "    compartidas por los espectadores.  \n",
    "    4. Correcciones o datos adicionales: Comentarios que aportan información adicional, \n",
    "    datos históricos o señalan errores en el contenido.  \n",
    "    5. Felicitaciones, agradecimientos y saludos: Comentarios que elogian, \n",
    "    expresan admiración o envían saludos relacionados con el contenido.  \n",
    "    6. Comentarios humorísticos o memes: Comentarios con intención humorística, \n",
    "    burlas o referencias graciosas al contenido.  \n",
    "    7. Comentarios generales: Comentarios que no encajan claramente en ninguna otra categoría.  \n",
    "\n",
    "    Lee con detenimiento, paso a paso los mensajes y clasifica los siguientes comentarios \n",
    "    en la categoría más adecuada y devuelve el número que corresponde a la categoría.\n",
    "\n",
    "    Comentarios:\n",
    "    {\" \".join(comment.split())}\n",
    "\n",
    "    Ejemplo de salida:\n",
    "\n",
    "        \"¡Este episodio fue increíble, aprendí muchísimo!\" → 1\n",
    "        \"La calidad del audio en este video estuvo mal, por favor arréglenlo.\" → 2\n",
    "        \"¿Podrían explicar más sobre cómo eligieron las siete maravillas modernas?\" → 6\n",
    "\n",
    "    Ejemplo de respuesta esperada:\n",
    "    1\n",
    "    2\n",
    "    6\n",
    "\n",
    "    Asegúrate de sólo regresar un número.\n",
    "    \"\"\""
   ]
  },
  {
   "cell_type": "code",
   "execution_count": 5,
   "metadata": {
    "cell_id": "c3ab8ce8bc3549569c8b2128b08c120f",
    "deepnote_cell_type": "code",
    "execution_context_id": "a22b07af-c551-41ee-a8ed-412ac5faebd2",
    "execution_millis": 0,
    "execution_start": 1732330189940,
    "source_hash": "c3d41a41"
   },
   "outputs": [],
   "source": [
    "category_map = {\n",
    "    1: \"Quejas o sugerencias de mejora\",\n",
    "    2: \"Propuestas y recomendaciones\",\n",
    "    3: \"Experiencias personales\",\n",
    "    4: \"Correcciones o datos adicionales\",\n",
    "    5: \"Felicitaciones, agradecimientos y saludos\",\n",
    "    6: \"Comentarios humorísticos o memes\",\n",
    "    7: \"Comentarios generales\"\n",
    "}"
   ]
  },
  {
   "cell_type": "code",
   "execution_count": 12,
   "metadata": {
    "cell_id": "f8fa7960a2664ca8816513af0c9bdf22",
    "deepnote_cell_type": "code",
    "execution_context_id": "fba7e579-695f-460b-98f9-23b89a620e97",
    "execution_millis": 11,
    "execution_start": 1732328075887,
    "source_hash": "87a3536"
   },
   "outputs": [],
   "source": [
    "client = OpenAI(api_key=API_KEY)\n",
    "\n",
    "def get_label(text:str) -> int:\n",
    "    response = client.chat.completions.with_raw_response.create(\n",
    "    messages=[{\n",
    "            \"role\": \"user\",\n",
    "            \"content\": create_prompt(text),\n",
    "        }],\n",
    "        model=\"gpt-4o-mini\",\n",
    "    )\n",
    "    completion = response.parse()\n",
    "    return int(completion.choices[0].message.content)"
   ]
  },
  {
   "cell_type": "code",
   "execution_count": 13,
   "metadata": {
    "cell_id": "71748dfcc4a5400c9fb96fcf710f2164",
    "deepnote_cell_type": "code",
    "execution_context_id": "fba7e579-695f-460b-98f9-23b89a620e97",
    "execution_millis": 318267,
    "execution_start": 1732328079810,
    "source_hash": "f6c01db5"
   },
   "outputs": [
    {
     "name": "stdout",
     "output_type": "stream",
     "text": [
      "Error at index 24: 2do Comentario\n",
      "Error at index 65: Primero\n",
      "Error at index 124: Primer comentario\n",
      "Error at index 532: Primer comentario\n",
      "Error at index 691: 🎉🎉🎉🎉\n",
      "Error at index 999: 🔍\n"
     ]
    }
   ],
   "source": [
    "for index, comment in df[\"snippet.topLevelComment.snippet.textOriginal\"].items():\n",
    "    try:\n",
    "        df.loc[index, \"category_id\"] = get_label(comment)\n",
    "    except:\n",
    "        print(f\"Error at index {index}: {comment}\")\n",
    "        pass"
   ]
  },
  {
   "cell_type": "code",
   "execution_count": 120,
   "metadata": {
    "cell_id": "279c4d12e3544467b742dd62a48ddb79",
    "deepnote_cell_type": "code",
    "deepnote_table_loading": false,
    "deepnote_table_state": {
     "cellFormattingRules": [],
     "conditionalFilters": [],
     "filters": [],
     "pageIndex": 12,
     "pageSize": 10,
     "sortBy": [],
     "wrappedTextColumnIds": []
    },
    "execution_context_id": "a22b07af-c551-41ee-a8ed-412ac5faebd2",
    "execution_millis": 12,
    "execution_start": 1732332027011,
    "source_hash": "11fa8800"
   },
   "outputs": [
    {
     "data": {
      "application/vnd.deepnote.dataframe.v3+json": {
       "column_count": 3,
       "columns": [
        {
         "dtype": "object",
         "name": "snippet.topLevelComment.snippet.textOriginal",
         "stats": {
          "categories": [
           {
            "count": 2,
            "name": "Primer comentario"
           },
           {
            "count": 1,
            "name": "weeeeey"
           },
           {
            "count": 124,
            "name": "124 others"
           }
          ],
          "nan_count": 0,
          "unique_count": 126
         }
        },
        {
         "dtype": "int64",
         "name": "category_id",
         "stats": {
          "histogram": [
           {
            "bin_end": 6.6,
            "bin_start": 6.5,
            "count": 0
           },
           {
            "bin_end": 6.7,
            "bin_start": 6.6,
            "count": 0
           },
           {
            "bin_end": 6.8,
            "bin_start": 6.7,
            "count": 0
           },
           {
            "bin_end": 6.9,
            "bin_start": 6.8,
            "count": 0
           },
           {
            "bin_end": 7,
            "bin_start": 6.9,
            "count": 0
           },
           {
            "bin_end": 7.1,
            "bin_start": 7,
            "count": 127
           },
           {
            "bin_end": 7.2,
            "bin_start": 7.1,
            "count": 0
           },
           {
            "bin_end": 7.3,
            "bin_start": 7.2,
            "count": 0
           },
           {
            "bin_end": 7.4,
            "bin_start": 7.3,
            "count": 0
           },
           {
            "bin_end": 7.5,
            "bin_start": 7.4,
            "count": 0
           }
          ],
          "max": "7",
          "min": "7",
          "nan_count": 0,
          "unique_count": 1
         }
        },
        {
         "dtype": "object",
         "name": "category_description",
         "stats": {
          "categories": [
           {
            "count": 127,
            "name": "Comentarios generales"
           }
          ],
          "nan_count": 0,
          "unique_count": 1
         }
        },
        {
         "dtype": "int64",
         "name": "_deepnote_index_column"
        }
       ],
       "row_count": 127,
       "rows": [
        {
         "_deepnote_index_column": 964,
         "category_description": "Comentarios generales",
         "category_id": 7,
         "snippet.topLevelComment.snippet.textOriginal": "Cagada que un mexicano me recomiende un rapero paisa... y la colombiana aquí soy yo!"
        },
        {
         "_deepnote_index_column": 986,
         "category_description": "Comentarios generales",
         "category_id": 7,
         "snippet.topLevelComment.snippet.textOriginal": "Aguante el Silverio científico"
        },
        {
         "_deepnote_index_column": 996,
         "category_description": "Comentarios generales",
         "category_id": 7,
         "snippet.topLevelComment.snippet.textOriginal": "Yepa yepa yepa!"
        },
        {
         "_deepnote_index_column": 997,
         "category_description": "Comentarios generales",
         "category_id": 7,
         "snippet.topLevelComment.snippet.textOriginal": "vlv leei: historia de los tamales... bye"
        },
        {
         "_deepnote_index_column": 999,
         "category_description": "Comentarios generales",
         "category_id": 7,
         "snippet.topLevelComment.snippet.textOriginal": "🔍"
        },
        {
         "_deepnote_index_column": 1000,
         "category_description": "Comentarios generales",
         "category_id": 7,
         "snippet.topLevelComment.snippet.textOriginal": "Saludos a los FeOHs (Oxido ferroso)"
        },
        {
         "_deepnote_index_column": 1025,
         "category_description": "Comentarios generales",
         "category_id": 7,
         "snippet.topLevelComment.snippet.textOriginal": "A tiempo para mi novela favorita 👌🏽"
        }
       ]
      },
      "text/html": [
       "<div>\n",
       "<style scoped>\n",
       "    .dataframe tbody tr th:only-of-type {\n",
       "        vertical-align: middle;\n",
       "    }\n",
       "\n",
       "    .dataframe tbody tr th {\n",
       "        vertical-align: top;\n",
       "    }\n",
       "\n",
       "    .dataframe thead th {\n",
       "        text-align: right;\n",
       "    }\n",
       "</style>\n",
       "<table border=\"1\" class=\"dataframe\">\n",
       "  <thead>\n",
       "    <tr style=\"text-align: right;\">\n",
       "      <th></th>\n",
       "      <th>snippet.topLevelComment.snippet.textOriginal</th>\n",
       "      <th>category_id</th>\n",
       "      <th>category_description</th>\n",
       "    </tr>\n",
       "  </thead>\n",
       "  <tbody>\n",
       "    <tr>\n",
       "      <th>1</th>\n",
       "      <td>weeeeey</td>\n",
       "      <td>7</td>\n",
       "      <td>Comentarios generales</td>\n",
       "    </tr>\n",
       "    <tr>\n",
       "      <th>2</th>\n",
       "      <td>Les voy a enviar una foto de TARAPACA</td>\n",
       "      <td>7</td>\n",
       "      <td>Comentarios generales</td>\n",
       "    </tr>\n",
       "    <tr>\n",
       "      <th>7</th>\n",
       "      <td>❤</td>\n",
       "      <td>7</td>\n",
       "      <td>Comentarios generales</td>\n",
       "    </tr>\n",
       "    <tr>\n",
       "      <th>8</th>\n",
       "      <td>Profirió Díaz por fi</td>\n",
       "      <td>7</td>\n",
       "      <td>Comentarios generales</td>\n",
       "    </tr>\n",
       "    <tr>\n",
       "      <th>11</th>\n",
       "      <td>Yo soy la que los oye desde Republica Dominica...</td>\n",
       "      <td>7</td>\n",
       "      <td>Comentarios generales</td>\n",
       "    </tr>\n",
       "    <tr>\n",
       "      <th>...</th>\n",
       "      <td>...</td>\n",
       "      <td>...</td>\n",
       "      <td>...</td>\n",
       "    </tr>\n",
       "    <tr>\n",
       "      <th>996</th>\n",
       "      <td>Yepa yepa yepa!</td>\n",
       "      <td>7</td>\n",
       "      <td>Comentarios generales</td>\n",
       "    </tr>\n",
       "    <tr>\n",
       "      <th>997</th>\n",
       "      <td>vlv leei: historia de los tamales... bye</td>\n",
       "      <td>7</td>\n",
       "      <td>Comentarios generales</td>\n",
       "    </tr>\n",
       "    <tr>\n",
       "      <th>999</th>\n",
       "      <td>🔍</td>\n",
       "      <td>7</td>\n",
       "      <td>Comentarios generales</td>\n",
       "    </tr>\n",
       "    <tr>\n",
       "      <th>1000</th>\n",
       "      <td>Saludos a los FeOHs (Oxido ferroso)</td>\n",
       "      <td>7</td>\n",
       "      <td>Comentarios generales</td>\n",
       "    </tr>\n",
       "    <tr>\n",
       "      <th>1025</th>\n",
       "      <td>A tiempo para mi novela favorita 👌🏽</td>\n",
       "      <td>7</td>\n",
       "      <td>Comentarios generales</td>\n",
       "    </tr>\n",
       "  </tbody>\n",
       "</table>\n",
       "<p>127 rows × 3 columns</p>\n",
       "</div>"
      ],
      "text/plain": [
       "           snippet.topLevelComment.snippet.textOriginal  category_id  \\\n",
       "1                                               weeeeey            7   \n",
       "2                 Les voy a enviar una foto de TARAPACA            7   \n",
       "7                                                     ❤            7   \n",
       "8                                  Profirió Díaz por fi            7   \n",
       "11    Yo soy la que los oye desde Republica Dominica...            7   \n",
       "...                                                 ...          ...   \n",
       "996                                     Yepa yepa yepa!            7   \n",
       "997            vlv leei: historia de los tamales... bye            7   \n",
       "999                                                   🔍            7   \n",
       "1000                Saludos a los FeOHs (Oxido ferroso)            7   \n",
       "1025                A tiempo para mi novela favorita 👌🏽            7   \n",
       "\n",
       "       category_description  \n",
       "1     Comentarios generales  \n",
       "2     Comentarios generales  \n",
       "7     Comentarios generales  \n",
       "8     Comentarios generales  \n",
       "11    Comentarios generales  \n",
       "...                     ...  \n",
       "996   Comentarios generales  \n",
       "997   Comentarios generales  \n",
       "999   Comentarios generales  \n",
       "1000  Comentarios generales  \n",
       "1025  Comentarios generales  \n",
       "\n",
       "[127 rows x 3 columns]"
      ]
     },
     "execution_count": 132,
     "metadata": {},
     "output_type": "execute_result"
    }
   ],
   "source": [
    "df[[\"snippet.topLevelComment.snippet.textOriginal\", \"category_id\", \"category_description\"]][df[\"category_id\"] ==7]"
   ]
  },
  {
   "cell_type": "code",
   "execution_count": 22,
   "metadata": {
    "cell_id": "c6c93f127d404dda85f07027694a80c0",
    "deepnote_cell_type": "code",
    "deepnote_table_loading": false,
    "deepnote_table_state": {
     "cellFormattingRules": [],
     "conditionalFilters": [],
     "filters": [],
     "pageIndex": 0,
     "pageSize": 10,
     "sortBy": [],
     "wrappedTextColumnIds": []
    },
    "execution_context_id": "fba7e579-695f-460b-98f9-23b89a620e97",
    "execution_millis": 0,
    "execution_start": 1732328466831,
    "source_hash": "c7a3e2bf"
   },
   "outputs": [
    {
     "data": {
      "application/vnd.deepnote.dataframe.v3+json": {
       "column_count": 3,
       "columns": [
        {
         "dtype": "object",
         "name": "snippet.topLevelComment.snippet.textOriginal",
         "stats": {
          "categories": [],
          "nan_count": 0,
          "unique_count": 0
         }
        },
        {
         "dtype": "int64",
         "name": "category_id",
         "stats": {
          "histogram": [
           {
            "bin_end": 0.1,
            "bin_start": 0,
            "count": 0
           },
           {
            "bin_end": 0.2,
            "bin_start": 0.1,
            "count": 0
           },
           {
            "bin_end": 0.30000000000000004,
            "bin_start": 0.2,
            "count": 0
           },
           {
            "bin_end": 0.4,
            "bin_start": 0.30000000000000004,
            "count": 0
           },
           {
            "bin_end": 0.5,
            "bin_start": 0.4,
            "count": 0
           },
           {
            "bin_end": 0.6000000000000001,
            "bin_start": 0.5,
            "count": 0
           },
           {
            "bin_end": 0.7000000000000001,
            "bin_start": 0.6000000000000001,
            "count": 0
           },
           {
            "bin_end": 0.8,
            "bin_start": 0.7000000000000001,
            "count": 0
           },
           {
            "bin_end": 0.9,
            "bin_start": 0.8,
            "count": 0
           },
           {
            "bin_end": 1,
            "bin_start": 0.9,
            "count": 0
           }
          ],
          "max": null,
          "min": null,
          "nan_count": 0,
          "unique_count": 0
         }
        },
        {
         "dtype": "object",
         "name": "category_description",
         "stats": {
          "categories": [],
          "nan_count": 0,
          "unique_count": 0
         }
        },
        {
         "dtype": "int64",
         "name": "_deepnote_index_column"
        }
       ],
       "row_count": 0,
       "rows": []
      },
      "text/html": [
       "<div>\n",
       "<style scoped>\n",
       "    .dataframe tbody tr th:only-of-type {\n",
       "        vertical-align: middle;\n",
       "    }\n",
       "\n",
       "    .dataframe tbody tr th {\n",
       "        vertical-align: top;\n",
       "    }\n",
       "\n",
       "    .dataframe thead th {\n",
       "        text-align: right;\n",
       "    }\n",
       "</style>\n",
       "<table border=\"1\" class=\"dataframe\">\n",
       "  <thead>\n",
       "    <tr style=\"text-align: right;\">\n",
       "      <th></th>\n",
       "      <th>snippet.topLevelComment.snippet.textOriginal</th>\n",
       "      <th>category_id</th>\n",
       "      <th>category_description</th>\n",
       "    </tr>\n",
       "  </thead>\n",
       "  <tbody>\n",
       "  </tbody>\n",
       "</table>\n",
       "</div>"
      ],
      "text/plain": [
       "Empty DataFrame\n",
       "Columns: [snippet.topLevelComment.snippet.textOriginal, category_id, category_description]\n",
       "Index: []"
      ]
     },
     "execution_count": 22,
     "metadata": {},
     "output_type": "execute_result"
    }
   ],
   "source": [
    "df[[\"snippet.topLevelComment.snippet.textOriginal\", \"category_id\", \"category_description\"]][df[\"category_id\"].isna()]"
   ]
  },
  {
   "cell_type": "code",
   "execution_count": 131,
   "metadata": {
    "cell_id": "4c6c293390584e22b8679e5ea40c87ab",
    "deepnote_cell_type": "code",
    "execution_context_id": "a22b07af-c551-41ee-a8ed-412ac5faebd2",
    "execution_millis": 0,
    "execution_start": 1732332348307,
    "source_hash": "6f661eb4"
   },
   "outputs": [],
   "source": [
    "# 24 65 124 532 999 --- 7\n",
    "# 691 -- 5\n",
    "# \n",
    "df.at[345, \"category_id\"] = 2\n",
    "# df.loc[df[\"category_id\"].isna(), \"category_id\"] = 3"
   ]
  },
  {
   "cell_type": "code",
   "execution_count": 132,
   "metadata": {
    "cell_id": "52008432c0614060af8a8e44e9c8457d",
    "deepnote_cell_type": "code",
    "execution_context_id": "a22b07af-c551-41ee-a8ed-412ac5faebd2",
    "execution_millis": 1,
    "execution_start": 1732332448395,
    "source_hash": "6a4da2ac"
   },
   "outputs": [],
   "source": [
    "df['category_description'] = df['category_id'].map(category_map)"
   ]
  },
  {
   "cell_type": "code",
   "execution_count": 133,
   "metadata": {
    "cell_id": "3d54c7bdca9045c4b7b321563c6baa53",
    "deepnote_cell_type": "code",
    "execution_context_id": "a22b07af-c551-41ee-a8ed-412ac5faebd2",
    "execution_millis": 4,
    "execution_start": 1732332449365,
    "source_hash": "5a04cd62"
   },
   "outputs": [
    {
     "data": {
      "text/plain": [
       "category_id\n",
       "6    225\n",
       "5    218\n",
       "2    178\n",
       "4    129\n",
       "7    119\n",
       "1     90\n",
       "3     67\n",
       "Name: count, dtype: int64"
      ]
     },
     "execution_count": 133,
     "metadata": {},
     "output_type": "execute_result"
    }
   ],
   "source": [
    "df[\"category_id\"] = df[\"category_id\"].astype(int)\n",
    "df[\"category_id\"].value_counts()"
   ]
  },
  {
   "cell_type": "code",
   "execution_count": 134,
   "metadata": {
    "cell_id": "88fffdddc1984e8ea0f06b6f58b0ff04",
    "deepnote_cell_type": "code",
    "execution_context_id": "a22b07af-c551-41ee-a8ed-412ac5faebd2",
    "execution_millis": 858,
    "execution_start": 1732332451474,
    "source_hash": "94ce656a"
   },
   "outputs": [],
   "source": [
    "df.to_csv(INTERIM_COMMENTS_ITEMS_DIR, encoding='utf-8', index=False)"
   ]
  },
  {
   "cell_type": "markdown",
   "metadata": {
    "created_in_deepnote_cell": true,
    "deepnote_cell_type": "markdown"
   },
   "source": [
    "<a style='text-decoration:none;line-height:16px;display:flex;color:#5B5B62;padding:10px;justify-content:end;' href='https://deepnote.com?utm_source=created-in-deepnote-cell&projectId=2820e488-6f1b-466d-af14-a66826f012e3' target=\"_blank\">\n",
    "<img alt='Created in deepnote.com' style='display:inline;max-height:16px;margin:0px;margin-right:7.5px;' src='data:image/svg+xml;base64,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' > </img>\n",
    "Created in <span style='font-weight:600;margin-left:4px;'>Deepnote</span></a>"
   ]
  }
 ],
 "metadata": {
  "deepnote_notebook_id": "2800c47d3b3d41089b1c391101558930",
  "language_info": {
   "name": "python"
  }
 },
 "nbformat": 4,
 "nbformat_minor": 0
}
